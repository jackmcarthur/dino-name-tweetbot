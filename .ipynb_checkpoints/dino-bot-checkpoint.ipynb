{
 "cells": [
  {
   "cell_type": "code",
   "execution_count": 150,
   "metadata": {},
   "outputs": [],
   "source": [
    "from tensorflow import keras\n",
    "import numpy as np\n",
    "import csv\n",
    "import editdistance\n",
    "\n",
    "with open('dinonames.csv', newline='') as f:\n",
    "    reader = csv.reader(f)\n",
    "    importedlist = list(reader)\n",
    "    dinonames = [val for sublist in importedlist for val in sublist][1:]\n",
    "    \n",
    "text = ''.join(dinonames)\n",
    "vocab = sorted(set(text))\n",
    "\n",
    "# Creating a mapping from unique characters to integers\n",
    "char2idx = {u:i for i, u in enumerate(vocab)}\n",
    "idx2char = np.array(vocab)\n",
    "max_char = len(max(dinonames, key = len))\n",
    "char_dim = len(vocab)\n",
    "\n",
    "model = keras.models.load_model('dino_model.h5')"
   ]
  },
  {
   "cell_type": "code",
   "execution_count": 178,
   "metadata": {},
   "outputs": [],
   "source": [
    "# a name generation function used in its simplest form for the training below\n",
    "# it can generate a name with or without a starting character start_char,\n",
    "# todo: implement a temperature that controls how predictable the text is\n",
    "def generate_name(model, start_char=None, temp=1.0):\n",
    "    name = []\n",
    "    x = np.zeros((1, max_char, char_dim))\n",
    "    i = 0\n",
    "    end = False\n",
    "\n",
    "    if start_char is not None:\n",
    "        start_char = start_char.lower()\n",
    "        x[0,0,char2idx[start_char]] = 1\n",
    "        name.append(start_char)\n",
    "        i = 1\n",
    "\n",
    "    while end == False:\n",
    "        probs = list(model.predict(x)[0,i])\n",
    "        norm_probs = probs / np.sum(probs)\n",
    "        index = np.random.choice(range(char_dim), p=norm_probs)\n",
    "        if i == max_char-2:\n",
    "            char = '\\n'\n",
    "            end = True\n",
    "        else:\n",
    "            char = idx2char[index]\n",
    "        name.append(char)\n",
    "        x[0, i+1, index] = 1\n",
    "        i += 1\n",
    "        if char == '\\n':\n",
    "            end = True\n",
    "    \n",
    "    name = ''.join(name)\n",
    "    return name\n",
    "\n",
    "# function that creates a dinosaur name with a minimum Levenshtein distance from an existing name\n",
    "# with min_dist = 2, \"Dipladocus\" and \"Dilodocus\" both get rejected for being 1 string edit from \"Diplodocus\"\n",
    "def checked_name(model, start_char=None, temp=1.0, min_dist=2):\n",
    "    tries = 1\n",
    "    while 1 == 1:\n",
    "        name = generate_name(model, start_char=start_char, temp=temp)\n",
    "        if name != '\\n':\n",
    "            if min([editdistance.eval(dino, name) for dino in dinonames]) >= min_dist:\n",
    "                break\n",
    "            else:\n",
    "                tries += 1\n",
    "    return name.capitalize(), tries"
   ]
  },
  {
   "cell_type": "code",
   "execution_count": 183,
   "metadata": {
    "scrolled": true
   },
   "outputs": [
    {
     "name": "stdout",
     "output_type": "stream",
     "text": [
      "Ementhosaurus\n",
      "Regionyx\n",
      "Rebentimus\n",
      "Imperosaurus\n",
      "Amanosaurus\n",
      "Rebectosaurus\n",
      "Urahavenator\n",
      "Wewutsurcen\n",
      "Oxalosaurus\n",
      "Ulancoconathus\n"
     ]
    }
   ],
   "source": [
    "for i in range(10):\n",
    "    print(checked_name(model)[0],end='')"
   ]
  },
  {
   "cell_type": "code",
   "execution_count": 188,
   "metadata": {},
   "outputs": [
    {
     "name": "stdout",
     "output_type": "stream",
     "text": [
      "Dlaeosauroides\n",
      "Denodosaurus\n",
      "Dlaeosaurus\n",
      "Dtenkropheria\n",
      "Deronosaurus\n"
     ]
    }
   ],
   "source": [
    "for i in range(5):\n",
    "    print(checked_name(model, start_char='d')[0],end='')"
   ]
  },
  {
   "cell_type": "code",
   "execution_count": 165,
   "metadata": {
    "scrolled": true
   },
   "outputs": [
    {
     "name": "stdout",
     "output_type": "stream",
     "text": [
      "average number of attempts =  1.0\n",
      "average number of attempts =  1.3\n",
      "average number of attempts =  1.85\n",
      "average number of attempts =  2.05\n"
     ]
    }
   ],
   "source": [
    "for i in range(4):\n",
    "    num_attempts = [checked_name(model, min_dist = i)[1] for j in range(20)]\n",
    "    print('average number of attempts = ', sum(num_attempts)/len(num_attempts))"
   ]
  },
  {
   "cell_type": "code",
   "execution_count": null,
   "metadata": {},
   "outputs": [],
   "source": [
    "import tweepy\n",
    "\n",
    "# Authenticate to Twitter (this can be done by someone with a developer account)\n",
    "auth = tweepy.OAuthHandler(\"CONSUMER_KEY\", \"CONSUMER_SECRET\")\n",
    "auth.set_access_token(\"ACCESS_TOKEN\", \"ACCESS_TOKEN_SECRET\")\n",
    "\n",
    "# Create API object\n",
    "api = tweepy.API(auth)\n",
    "\n",
    "# Create a tweet\n",
    "api.update_status(checked_name(model)[0])"
   ]
  },
  {
   "cell_type": "code",
   "execution_count": 161,
   "metadata": {},
   "outputs": [
    {
     "data": {
      "text/plain": [
       "array([1.2680901e-05, 1.8196403e-03, 3.7690366e-09, 5.4903376e-05,\n",
       "       4.8235989e-08, 2.8861844e-04, 3.8252918e-11, 1.1649672e-07,\n",
       "       3.7218294e-06, 1.4647045e-06, 5.0851736e-06, 3.6596125e-06,\n",
       "       2.9590581e-06, 1.3180680e-07, 3.2465131e-04, 5.6108784e-06,\n",
       "       1.3154924e-07, 9.9392616e-07, 1.3740179e-03, 9.9384862e-01,\n",
       "       1.2434118e-03, 2.4851815e-06, 9.2269242e-04, 1.0626814e-10,\n",
       "       8.4067520e-05, 2.3487962e-07, 1.5761005e-08], dtype=float32)"
      ]
     },
     "execution_count": 161,
     "metadata": {},
     "output_type": "execute_result"
    }
   ],
   "source": [
    "x = np.zeros((1, max_char, char_dim))\n",
    "model.predict(x)[0,i]"
   ]
  },
  {
   "cell_type": "code",
   "execution_count": null,
   "metadata": {},
   "outputs": [],
   "source": []
  }
 ],
 "metadata": {
  "kernelspec": {
   "display_name": "Python 3",
   "language": "python",
   "name": "python3"
  },
  "language_info": {
   "codemirror_mode": {
    "name": "ipython",
    "version": 3
   },
   "file_extension": ".py",
   "mimetype": "text/x-python",
   "name": "python",
   "nbconvert_exporter": "python",
   "pygments_lexer": "ipython3",
   "version": "3.7.6"
  }
 },
 "nbformat": 4,
 "nbformat_minor": 4
}
