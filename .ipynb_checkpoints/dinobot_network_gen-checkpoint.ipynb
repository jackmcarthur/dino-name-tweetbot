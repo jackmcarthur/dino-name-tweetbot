{
 "cells": [
  {
   "cell_type": "code",
   "execution_count": 5,
   "metadata": {
    "colab": {
     "base_uri": "https://localhost:8080/",
     "height": 34
    },
    "colab_type": "code",
    "id": "3H9yVJlkMhgQ",
    "outputId": "931f489d-7c58-49ec-eeba-b580c8dec40b"
   },
   "outputs": [
    {
     "name": "stdout",
     "output_type": "stream",
     "text": [
      "27 unique characters\n"
     ]
    }
   ],
   "source": [
    "import requests\n",
    "from urllib.request import urlopen\n",
    "\n",
    "from bs4 import BeautifulSoup\n",
    "\n",
    "import numpy as np\n",
    "import pandas as pd\n",
    "import random\n",
    "\n",
    "url = 'https://en.wikipedia.org/wiki/List_of_dinosaur_genera'\n",
    "html = urlopen(url) \n",
    "soup = BeautifulSoup(html, 'html.parser')\n",
    "\n",
    "listitems = soup.find_all('li')[6:-110]\n",
    "dinonames = []\n",
    "\n",
    "# returns the lowercased text from the first link in every list item\n",
    "for match in listitems:\n",
    "    if match.a is not None:\n",
    "        dinonames.append(match.a.get_text().lower()+'\\n')\n",
    "\n",
    "# changes list to a single string\n",
    "text = ''.join(dinonames)\n",
    "\n",
    "vocab = sorted(set(text))\n",
    "print ('{} unique characters'.format(len(vocab)))\n",
    "\n",
    "# Creating a mapping from unique characters to integers\n",
    "char2idx = {u:i for i, u in enumerate(vocab)}\n",
    "idx2char = np.array(vocab)\n",
    "\n",
    "# entire text converted to array of integers\n",
    "text_as_int = np.array([char2idx[c] for c in text])\n",
    "\n",
    "max_char = len(max(dinonames, key = len))\n",
    "name_dim = len(dinonames)\n",
    "char_dim = len(vocab)\n",
    "\n",
    "# turn training set (integer sequence) into tensors: \n",
    "X = np.zeros((name_dim, max_char, char_dim))\n",
    "Y = np.zeros((name_dim, max_char, char_dim))\n",
    "for i in range(name_dim):\n",
    "    name = list(dinonames[i])\n",
    "    for j in range(len(name)):\n",
    "        X[i, j, char2idx[name[j]]] = 1\n",
    "        if j < len(name)-1:\n",
    "            Y[i, j, char2idx[name[j+1]]] = 1"
   ]
  },
  {
   "cell_type": "code",
   "execution_count": null,
   "metadata": {
    "colab": {},
    "colab_type": "code",
    "id": "Uqds-eDVMq6T"
   },
   "outputs": [],
   "source": [
    "import tensorflow as tf\n",
    "from keras.models import Sequential\n",
    "from keras.layers import LSTM, Dense\n",
    "from keras.optimizers import RMSprop\n",
    "from keras.callbacks import LambdaCallback\n",
    "\n",
    "# recurrant neural network with parameters often used for text generation\n",
    "# a lot of inspiration comes from https://www.tensorflow.org/tutorials/text/text_generation\n",
    "# although a number of parameters are changed since this program generates words,\n",
    "# whereas most uses of neural networks for text generation focus on novel-length texts\n",
    "\n",
    "# long short term memory layer and dense layer:\n",
    "model = Sequential()\n",
    "model.add(LSTM(128, input_shape=(max_char, char_dim), return_sequences=True))\n",
    "model.add(Dense(char_dim, activation='softmax'))\n",
    "\n",
    "# loss and optimization techniques that seem to work well for other textgen applications\n",
    "opt = RMSprop(learning_rate = 0.01)\n",
    "model.compile(loss='categorical_crossentropy', optimizer=opt)"
   ]
  },
  {
   "cell_type": "code",
   "execution_count": null,
   "metadata": {
    "colab": {},
    "colab_type": "code",
    "id": "p3VN3ExSMrgW"
   },
   "outputs": [],
   "source": [
    "# a name generation function used in its simplest form for the training below\n",
    "# it can generate a name with or without a starting character start_char,\n",
    "# todo: implement a temperature that controls how predictable the text is\n",
    "def generate_name(model, start_char=None, temp=1.0):\n",
    "    name = []\n",
    "    x = np.zeros((1, max_char, char_dim))\n",
    "    i = 0\n",
    "    end = False\n",
    "\n",
    "    if start_char is not None:\n",
    "      start_char = start_char.lower()\n",
    "      x[0,0,char2idx[start_char]] = 1\n",
    "      name.append(start_char)\n",
    "      i = 1\n",
    "\n",
    "    while end == False:\n",
    "        probs = list(model.predict(x)[0,i])\n",
    "        norm_probs = probs / np.sum(probs)\n",
    "        index = np.random.choice(range(char_dim), p=norm_probs)\n",
    "        if i == max_char-2:\n",
    "            char = '\\n'\n",
    "            end = True\n",
    "        else:\n",
    "            char = idx2char[index]\n",
    "        name.append(char)\n",
    "        x[0, i+1, index] = 1\n",
    "        i += 1\n",
    "        if char == '\\n':\n",
    "            end = True\n",
    "    \n",
    "    name = ''.join(name)\n",
    "    return name\n",
    "\n",
    "# these two functions enable the output as the network trains\n",
    "def name_print_loop(epoch, _):\n",
    "    if epoch % 20 == 0:\n",
    "        print('Names generated after epoch %d:' % epoch)\n",
    "        for i in range(3):\n",
    "            print(generate_name(model).capitalize(),end='')\n",
    "\n",
    "name_generator = LambdaCallback(on_epoch_end = name_print_loop)"
   ]
  },
  {
   "cell_type": "code",
   "execution_count": null,
   "metadata": {
    "colab": {
     "base_uri": "https://localhost:8080/",
     "height": 420
    },
    "colab_type": "code",
    "id": "gGazt0Q-Mw_l",
    "outputId": "0ed9302b-29bc-4a63-f34a-4adc714b288d"
   },
   "outputs": [
    {
     "name": "stdout",
     "output_type": "stream",
     "text": [
      "Names generated after epoch 0:\n",
      "Zttl\n",
      "Mekhuis\n",
      "Xwaituedouaus\n",
      "Names generated after epoch 20:\n",
      "Alaboristhides\n",
      "Righanotonyxus\n",
      "Inkongosaurus\n",
      "Names generated after epoch 40:\n",
      "Arkharodon\n",
      "Olycondorus\n",
      "Manospchus\n",
      "Names generated after epoch 60:\n",
      "Aasholongosaurus\n",
      "Archaeodontosaurus\n",
      "Ignanosaurus\n",
      "Names generated after epoch 80:\n",
      "Alvisprnes\n",
      "Yamanasaurus\n",
      "Tenchisaurus\n",
      "Names generated after epoch 100:\n",
      "Unbaeollin\n",
      "Orkatitan\n",
      "Arshanosaurus\n"
     ]
    }
   ],
   "source": [
    "# model training\n",
    "model.fit(X, Y, batch_size=128, epochs=101, callbacks=[name_generator], verbose=0)"
   ]
  },
  {
   "cell_type": "code",
   "execution_count": null,
   "metadata": {
    "colab": {
     "base_uri": "https://localhost:8080/",
     "height": 353
    },
    "colab_type": "code",
    "id": "RQmVE8QXRj4t",
    "outputId": "a65bcaf2-2e01-4b92-d75c-b14cf4a890f8"
   },
   "outputs": [
    {
     "name": "stdout",
     "output_type": "stream",
     "text": [
      "Atacamasitaptor\n",
      "Harbyngvenator\n",
      "this one is real: Rachitrema\n",
      "Amangltha\n",
      "Arstariasaurus\n",
      "Otherunosaurus\n",
      "this one is real: Orinosaurus\n",
      "Veteruposaurus\n",
      "Othanosaurus\n",
      "this one is real: Tomodon\n",
      "Amyodon\n",
      "Isanocaudia\n",
      "Ichariosaurus\n",
      "this one is real: Wyleyia\n",
      "Angunosaurus\n",
      "Ambosauriscus\n",
      "Yorosaurus\n",
      "Ulancolimn\n",
      "this one is real: Omosaurus\n",
      "Ulancolimn\n"
     ]
    }
   ],
   "source": [
    "# fake dinosaur names, from fully trained model\n",
    "for i in range(20):\n",
    "  name = generate_name(model)\n",
    "  if name != '\\n':\n",
    "    if name.lower() in dinonames:\n",
    "      print(\"this one is real: \",end='')\n",
    "    print(name.capitalize(),end='')"
   ]
  },
  {
   "cell_type": "code",
   "execution_count": null,
   "metadata": {
    "colab": {
     "base_uri": "https://localhost:8080/",
     "height": 353
    },
    "colab_type": "code",
    "id": "UPIpV_7fRnxV",
    "outputId": "0fe54192-25a8-49c2-bfee-a8319061b083"
   },
   "outputs": [
    {
     "name": "stdout",
     "output_type": "stream",
     "text": [
      "Paronychodon\n",
      "Palaeosaurus\n",
      "Plateosauravus\n",
      "Sulaimanisaurus\n",
      "Lufengosaurus\n",
      "Adeopapposaurus\n",
      "Trachodon\n",
      "Galesaurus\n",
      "Texacephale\n",
      "Epicampodon\n",
      "Clarencea\n",
      "Lusovenator\n",
      "Sektensaurus\n",
      "Huanghetitan\n",
      "Albertavenator\n",
      "Masiakasaurus\n",
      "Megaraptor\n",
      "Piveteausaurus\n",
      "Yamanasaurus\n",
      "Rahona\n"
     ]
    }
   ],
   "source": [
    "# real dinosaur names for comparison\n",
    "for i in range(20):\n",
    "  print(random.choice(dinonames).capitalize(),end='')"
   ]
  },
  {
   "cell_type": "code",
   "execution_count": null,
   "metadata": {
    "colab": {
     "base_uri": "https://localhost:8080/",
     "height": 104
    },
    "colab_type": "code",
    "id": "MXjqL-PmjEcL",
    "outputId": "5bb6b5e3-d56c-4580-bad0-f40d33250b12"
   },
   "outputs": [
    {
     "name": "stdout",
     "output_type": "stream",
     "text": [
      "Requirement already satisfied: pyyaml in /usr/local/lib/python3.6/dist-packages (3.13)\n",
      "Requirement already satisfied: h5py in /usr/local/lib/python3.6/dist-packages (2.10.0)\n",
      "Requirement already satisfied: numpy>=1.7 in /usr/local/lib/python3.6/dist-packages (from h5py) (1.18.5)\n",
      "Requirement already satisfied: six in /usr/local/lib/python3.6/dist-packages (from h5py) (1.15.0)\n"
     ]
    }
   ],
   "source": [
    "!pip install pyyaml h5py\n",
    "model.save('dino_model.h5')\n",
    "# if in google colab, click file icon in left sidebar to find and download."
   ]
  },
  {
   "cell_type": "code",
   "execution_count": 6,
   "metadata": {},
   "outputs": [],
   "source": [
    "df = pd.DataFrame(dinonames)\n",
    "df.to_csv('dinonames.csv', index=False)"
   ]
  }
 ],
 "metadata": {
  "accelerator": "GPU",
  "colab": {
   "collapsed_sections": [],
   "name": "dinobot-network-gen.ipynb",
   "provenance": []
  },
  "kernelspec": {
   "display_name": "Python 3",
   "language": "python",
   "name": "python3"
  },
  "language_info": {
   "codemirror_mode": {
    "name": "ipython",
    "version": 3
   },
   "file_extension": ".py",
   "mimetype": "text/x-python",
   "name": "python",
   "nbconvert_exporter": "python",
   "pygments_lexer": "ipython3",
   "version": "3.7.6"
  }
 },
 "nbformat": 4,
 "nbformat_minor": 1
}
