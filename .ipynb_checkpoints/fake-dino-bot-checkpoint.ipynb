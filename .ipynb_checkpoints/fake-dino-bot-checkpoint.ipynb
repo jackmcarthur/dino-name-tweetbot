{
 "cells": [
  {
   "cell_type": "code",
   "execution_count": 42,
   "metadata": {},
   "outputs": [],
   "source": [
    "import requests\n",
    "from urllib.request import urlopen\n",
    "\n",
    "from bs4 import BeautifulSoup\n",
    "\n",
    "import numpy as np\n",
    "import pandas as pd\n",
    "\n",
    "url = 'https://en.wikipedia.org/wiki/List_of_dinosaur_genera'\n",
    "html = urlopen(url) \n",
    "soup = BeautifulSoup(html, 'html.parser')"
   ]
  },
  {
   "cell_type": "code",
   "execution_count": 54,
   "metadata": {},
   "outputs": [],
   "source": [
    "listitems = soup.find_all('li')[6:-110]"
   ]
  },
  {
   "cell_type": "code",
   "execution_count": 96,
   "metadata": {},
   "outputs": [],
   "source": [
    "dinonames = []\n",
    "\n",
    "# returns the lowercased text from the first link in every list item\n",
    "for match in listitems:\n",
    "    if match.a is not None:\n",
    "        dinonames.append(match.a.get_text().lower())"
   ]
  },
  {
   "cell_type": "code",
   "execution_count": 97,
   "metadata": {
    "scrolled": true
   },
   "outputs": [
    {
     "data": {
      "text/plain": [
       "1648"
      ]
     },
     "execution_count": 97,
     "metadata": {},
     "output_type": "execute_result"
    }
   ],
   "source": [
    "len(dinonames)"
   ]
  },
  {
   "cell_type": "code",
   "execution_count": 98,
   "metadata": {},
   "outputs": [
    {
     "name": "stdout",
     "output_type": "stream",
     "text": [
      "sinornithoides\n",
      "tianchisaurus\n",
      "wannanosaurus\n",
      "australovenator\n",
      "paleosaurus\n",
      "megacervixosaurus\n",
      "australodocus\n",
      "magyarosaurus\n",
      "blasisaurus\n",
      "lohuecotitan\n"
     ]
    }
   ],
   "source": [
    "import random\n",
    "\n",
    "for i in range(10):\n",
    "    print(random.choice(dinonames))"
   ]
  },
  {
   "cell_type": "code",
   "execution_count": 108,
   "metadata": {},
   "outputs": [
    {
     "name": "stdout",
     "output_type": "stream",
     "text": [
      "27 unique characters\n"
     ]
    }
   ],
   "source": [
    "text = '\\n'.join(dinonames)\n",
    "\n",
    "vocab = sorted(set(text))\n",
    "print ('{} unique characters'.format(len(vocab)))\n",
    "\n",
    "# Creating a mapping from unique characters to indices\n",
    "char2idx = {u:i for i, u in enumerate(vocab)}\n",
    "idx2char = np.array(vocab)\n",
    "\n",
    "text_as_int = np.array([char2idx[c] for c in text])"
   ]
  },
  {
   "cell_type": "code",
   "execution_count": 113,
   "metadata": {},
   "outputs": [],
   "source": [
    "max_char = len(max(dinonames, key = len))\n",
    "name_dim = len(dinonames)\n",
    "char_dim = len(vocab)\n",
    "\n",
    "# turn training set into tensors: \n",
    "X = np.zeros((name_dim, max_char, char_dim))\n",
    "Y = np.zeros((name_dim, max_char, char_dim))\n",
    "\n",
    "for i in range(name_dim):\n",
    "    name = list(dinonames[i])\n",
    "    for j in range(len(name)):\n",
    "        X[i, j, char2idx[name[j]]] = 1\n",
    "        if j < len(name)-1:\n",
    "            Y[i, j, char2idx[name[j+1]]] = 1"
   ]
  },
  {
   "cell_type": "code",
   "execution_count": 115,
   "metadata": {},
   "outputs": [],
   "source": [
    "from keras.models import Sequential\n",
    "from keras.layers import LSTM, Dense\n",
    "from keras.callbacks import LambdaCallback\n",
    "\n",
    "model = Sequential()\n",
    "model.add(LSTM(128, input_shape=(max_char, char_dim), return_sequences=True))\n",
    "model.add(Dense(char_dim, activation='softmax'))\n",
    "\n",
    "model.compile(loss='categorical_crossentropy', optimizer='adam')"
   ]
  },
  {
   "cell_type": "code",
   "execution_count": 119,
   "metadata": {},
   "outputs": [],
   "source": [
    "def generate_name(model):\n",
    "    name = []\n",
    "    x = np.zeros((1, max_char, char_dim))\n",
    "    end = False\n",
    "    i = 0\n",
    "    \n",
    "    while end == False:\n",
    "        probs = list(model.predict(x)[0,i])\n",
    "        norm_probs = probs / np.sum(probs)\n",
    "        index = np.random.choice(range(char_dim), p=norm_probs)\n",
    "        if i == max_char-2:\n",
    "            char = '\\n'\n",
    "            end = True\n",
    "        else:\n",
    "            char = idx2char[index]\n",
    "        name.append(char)\n",
    "        x[0, i+1, index] = 1\n",
    "        i += 1\n",
    "        if char == '\\n':\n",
    "            end = True\n",
    "    \n",
    "    print(''.join(name))"
   ]
  },
  {
   "cell_type": "code",
   "execution_count": 122,
   "metadata": {},
   "outputs": [
    {
     "name": "stdout",
     "output_type": "stream",
     "text": [
      "Names generated after epoch 0:\n",
      "racodinusaurusussusuu\n",
      "\n",
      "epedonaxiaurussauruss\n",
      "\n",
      "ycarmsuususaurussussu\n",
      "\n",
      "\n",
      "Names generated after epoch 10:\n",
      "inaceratossusucussuru\n",
      "\n",
      "ustrotikusursusaurusv\n",
      "\n",
      "ampasaurussussucuussu\n",
      "\n",
      "\n",
      "Names generated after epoch 20:\n",
      "ongnisauruscussusussu\n",
      "\n",
      "utrovenatoraxiusausau\n",
      "\n",
      "emcoravipantiaaiausau\n",
      "\n",
      "\n",
      "Names generated after epoch 30:\n",
      "thyanousaurusuusaurus\n",
      "\n",
      "inesaurussurussurussu\n",
      "\n",
      "inosaurussuusaurussuc\n",
      "\n",
      "\n",
      "Names generated after epoch 40:\n",
      "amperiasaurussuusuusu\n",
      "\n",
      "striosaurussuchusauru\n",
      "\n",
      "achiosauruscisssurusu\n",
      "\n",
      "\n",
      "Names generated after epoch 50:\n",
      "yuangosaurusuchusauru\n",
      "\n",
      "yeminaptoryxeusaurusu\n",
      "\n",
      "pinotosaurusucussauru\n",
      "\n",
      "\n",
      "Names generated after epoch 60:\n",
      "alcovenaaurussuusauru\n",
      "\n",
      "eucerotopnisaudiannuc\n",
      "\n",
      "utelosaurusueusaurusa\n",
      "\n",
      "\n",
      "Names generated after epoch 70:\n",
      "aplasaurussusucsuscuu\n",
      "\n",
      "riharrasedioddotester\n",
      "\n",
      "iabinitosaurussuusaur\n",
      "\n",
      "\n",
      "Names generated after epoch 80:\n",
      "equenosaurusseusasaur\n",
      "\n",
      "ongdiasousaurusauruss\n",
      "\n",
      "uteclenadoneptosaurus\n",
      "\n",
      "\n",
      "Names generated after epoch 90:\n",
      "ratilimussauruscussuu\n",
      "\n",
      "inotrrasaurussuusauru\n",
      "\n",
      "ugeusauruscussaurusau\n",
      "\n",
      "\n"
     ]
    },
    {
     "data": {
      "text/plain": [
       "<tensorflow.python.keras.callbacks.History at 0x2018d845b48>"
      ]
     },
     "execution_count": 122,
     "metadata": {},
     "output_type": "execute_result"
    }
   ],
   "source": [
    "def generate_name_loop(epoch, _):\n",
    "    if epoch % 10 == 0:\n",
    "        \n",
    "        print('Names generated after epoch %d:' % epoch)\n",
    "\n",
    "        for i in range(3):\n",
    "            generate_name(model)\n",
    "        \n",
    "        print()\n",
    "      \n",
    "name_generator = LambdaCallback(on_epoch_end = generate_name_loop)\n",
    "\n",
    "model.fit(X, Y, batch_size=128, epochs=100, callbacks=[name_generator], verbose=0)"
   ]
  },
  {
   "cell_type": "code",
   "execution_count": null,
   "metadata": {},
   "outputs": [],
   "source": []
  }
 ],
 "metadata": {
  "kernelspec": {
   "display_name": "Python 3",
   "language": "python",
   "name": "python3"
  },
  "language_info": {
   "codemirror_mode": {
    "name": "ipython",
    "version": 3
   },
   "file_extension": ".py",
   "mimetype": "text/x-python",
   "name": "python",
   "nbconvert_exporter": "python",
   "pygments_lexer": "ipython3",
   "version": "3.7.6"
  }
 },
 "nbformat": 4,
 "nbformat_minor": 4
}
